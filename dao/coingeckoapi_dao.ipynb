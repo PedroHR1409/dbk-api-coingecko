{
 "cells": [
  {
   "cell_type": "code",
   "execution_count": 0,
   "metadata": {
    "application/vnd.databricks.v1+cell": {
     "cellMetadata": {
      "byteLimit": 2048000,
      "rowLimit": 10000
     },
     "inputWidgets": {},
     "nuid": "a4485cc0-efa2-4105-b9e0-6eab8ff7f33b",
     "showTitle": false,
     "tableResultSettingsMap": {},
     "title": ""
    }
   },
   "outputs": [],
   "source": [
    "%run ../utils/exceptions/"
   ]
  },
  {
   "cell_type": "code",
   "execution_count": 0,
   "metadata": {
    "application/vnd.databricks.v1+cell": {
     "cellMetadata": {
      "byteLimit": 2048000,
      "rowLimit": 10000
     },
     "inputWidgets": {},
     "nuid": "56512a29-0b81-42d3-9703-76b62998c73e",
     "showTitle": false,
     "tableResultSettingsMap": {},
     "title": ""
    }
   },
   "outputs": [],
   "source": [
    "import requests\n",
    "import time"
   ]
  },
  {
   "cell_type": "code",
   "execution_count": 0,
   "metadata": {
    "application/vnd.databricks.v1+cell": {
     "cellMetadata": {
      "byteLimit": 2048000,
      "rowLimit": 10000
     },
     "inputWidgets": {},
     "nuid": "011a7b0f-472f-46c3-a106-dba287280c2d",
     "showTitle": false,
     "tableResultSettingsMap": {},
     "title": ""
    }
   },
   "outputs": [],
   "source": [
    "class CoinGeckoAPI_DAO:\n",
    "    def __init__(self):\n",
    "        \"\"\"\n",
    "        Classe de acesso à API do CoinGecko\n",
    "        \n",
    "        Args:\n",
    "            base_url (str): URL base da API\n",
    "            headers (str): Cabeçalhos da requisição\n",
    "        \"\"\"\n",
    "        self.base_url = \"https://api.coingecko.com/api/v3\"\n",
    "        self.headers = {\n",
    "            \"Accept\": \"application/json\"\n",
    "        }\n",
    "    \n",
    "    def _validate_response(self, response):\n",
    "        \"\"\"\n",
    "        Valida a resposta de uma requisição à API.\n",
    "\n",
    "        Args:\n",
    "            response (requests.Response): Objeto de resposta da requisição HTTP.\n",
    "\n",
    "        Returns:\n",
    "            dict | list: Conteúdo em JSON da resposta, caso o status seja 200 e haja dados.\n",
    "\n",
    "        Raises:\n",
    "            EmptyResponseError: Se o status for 200 mas a resposta estiver vazia.\n",
    "            NotFoundError: Se o status for 404 (endpoint não encontrado).\n",
    "            RateLimitError: Se o status for 429 (limite de requisições excedido).\n",
    "            ServerError: Se o status for >= 500 (erro no servidor da API).\n",
    "            HTTPError: Para outros códigos de status não tratados.\n",
    "        \"\"\"\n",
    "\n",
    "        status_code = response.status_code\n",
    "\n",
    "        match status_code:\n",
    "            case 200:\n",
    "                data = response.json()\n",
    "                if data:\n",
    "                    return data\n",
    "                raise EmptyResponseError(\"Response vazio da API.\")\n",
    "            case 404:\n",
    "                raise NotFoundError(\"Endpoint não encontrado.\")\n",
    "            case 429:\n",
    "                raise RateLimitError(\"Requisições acima do rate limit - Aguarde e tente novamente.\")\n",
    "            case code if code >= 500:\n",
    "                raise ServerError(f\"Erro no servidor da API: {code}\")\n",
    "            case _:\n",
    "                raise HTTPError(f\"Erro HTTP: {status_code}\")\n",
    "\n",
    "\n",
    "    def make_request(self, endpoint, params=None):\n",
    "        \"\"\"\n",
    "        Faz a requisição com validação e retry automático.\n",
    "\n",
    "        Args:\n",
    "            endpoint (str): Endpoint da API.\n",
    "            params (dict): Parâmetros da requisiçao.\n",
    "\n",
    "        Returns:\n",
    "            dict | list: Dados da API\n",
    "        \"\"\"\n",
    "\n",
    "        url = f'{self.base_url}/{endpoint}'\n",
    "\n",
    "        for attempt in range(3):\n",
    "            try:\n",
    "                print(f'Requisição: {endpoint} (tentativa {attempt + 1})')\n",
    "\n",
    "                response = requests.get(\n",
    "                    url = url,\n",
    "                    headers = self.headers,\n",
    "                    params = params,\n",
    "                    timeout = 30\n",
    "                )\n",
    "\n",
    "                data = self._validate_response(response)\n",
    "                print(f'Sucesso: {len(data) if isinstance(data, list) else 1} registros')\n",
    "                return data\n",
    "\n",
    "            except AttemptExceeded as e:\n",
    "                print(f'Tentativa {attempt + 1} falhou: {e}')\n",
    "                if attempt < 2:\n",
    "                    time.sleep(5)\n",
    "                else:\n",
    "                    print(f'Todas as tentativas falharam para {endpoint}')\n",
    "                    return None"
   ]
  }
 ],
 "metadata": {
  "application/vnd.databricks.v1+notebook": {
   "computePreferences": {
    "hardware": {
     "accelerator": null,
     "gpuPoolId": null,
     "memory": null
    }
   },
   "dashboards": [],
   "environmentMetadata": {
    "base_environment": "",
    "environment_version": "3"
   },
   "inputWidgetPreferences": null,
   "language": "python",
   "notebookMetadata": {
    "pythonIndentUnit": 4
   },
   "notebookName": "coingeckoapi_dao",
   "widgets": {}
  },
  "language_info": {
   "name": "python"
  }
 },
 "nbformat": 4,
 "nbformat_minor": 0
}
