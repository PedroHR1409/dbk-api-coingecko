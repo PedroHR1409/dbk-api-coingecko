{
 "cells": [
  {
   "cell_type": "code",
   "execution_count": 0,
   "metadata": {
    "application/vnd.databricks.v1+cell": {
     "cellMetadata": {
      "byteLimit": 2048000,
      "rowLimit": 10000
     },
     "inputWidgets": {},
     "nuid": "5f8d6fd1-3528-4870-885a-4aa83e18375d",
     "showTitle": false,
     "tableResultSettingsMap": {},
     "title": ""
    }
   },
   "outputs": [],
   "source": [
    "%run ../dao/coingeckoapi_dao/"
   ]
  },
  {
   "cell_type": "code",
   "execution_count": 0,
   "metadata": {
    "application/vnd.databricks.v1+cell": {
     "cellMetadata": {
      "byteLimit": 2048000,
      "rowLimit": 10000
     },
     "inputWidgets": {},
     "nuid": "e17fc5be-1290-4193-ab0d-adb0b4da3706",
     "showTitle": false,
     "tableResultSettingsMap": {},
     "title": ""
    }
   },
   "outputs": [],
   "source": [
    "%run ../utils/save_helper/"
   ]
  },
  {
   "cell_type": "code",
   "execution_count": 0,
   "metadata": {
    "application/vnd.databricks.v1+cell": {
     "cellMetadata": {
      "byteLimit": 2048000,
      "rowLimit": 10000
     },
     "inputWidgets": {},
     "nuid": "f107915a-7e30-4984-8004-17d2c619acb3",
     "showTitle": false,
     "tableResultSettingsMap": {},
     "title": ""
    }
   },
   "outputs": [],
   "source": [
    "import time\n",
    "\n",
    "from pyspark.sql import functions as F\n",
    "from pyspark.sql.types import StructType, StructField, StringType, IntegerType, DoubleType, LongType, TimestampType"
   ]
  },
  {
   "cell_type": "code",
   "execution_count": 0,
   "metadata": {
    "application/vnd.databricks.v1+cell": {
     "cellMetadata": {
      "byteLimit": 2048000,
      "rowLimit": 10000
     },
     "inputWidgets": {},
     "nuid": "d9b83f33-0b42-48d8-a9d2-d032624ec5c9",
     "showTitle": false,
     "tableResultSettingsMap": {},
     "title": ""
    }
   },
   "outputs": [],
   "source": [
    "cgk_api = CoinGeckoAPI_DAO()"
   ]
  },
  {
   "cell_type": "code",
   "execution_count": 0,
   "metadata": {
    "application/vnd.databricks.v1+cell": {
     "cellMetadata": {
      "byteLimit": 2048000,
      "rowLimit": 10000
     },
     "inputWidgets": {},
     "nuid": "671b778a-4142-48d6-ac1e-067e4c6f8a60",
     "showTitle": false,
     "tableResultSettingsMap": {},
     "title": ""
    }
   },
   "outputs": [],
   "source": [
    "schema = StructType([\n",
    "    StructField(\"id\", StringType(), False),\n",
    "    StructField(\"symbol\", StringType(), False),\n",
    "    StructField(\"name\", StringType(), False),\n",
    "    StructField(\"image\", StringType(), False),\n",
    "    StructField(\"current_price\", DoubleType(), True),\n",
    "    StructField(\"market_cap\", DoubleType(), True),\n",
    "    StructField(\"market_cap_rank\", IntegerType(), True),\n",
    "    StructField(\"fully_diluted_valuation\", LongType(), True),\n",
    "    StructField(\"total_volume\", DoubleType(), True),\n",
    "    StructField(\"high_24h\", DoubleType(), True),\n",
    "    StructField(\"low_24h\", DoubleType(), True),\n",
    "    StructField(\"price_change_24h\", DoubleType(), True),\n",
    "    StructField(\"price_change_percentage_24h\", DoubleType(), True),\n",
    "    StructField(\"market_cap_change_24h\", DoubleType(), True),\n",
    "    StructField(\"market_cap_change_percentage_24h\", DoubleType(), True),\n",
    "    StructField(\"circulating_supply\", DoubleType(), True),\n",
    "    StructField(\"total_supply\", DoubleType(), True),\n",
    "    StructField(\"max_supply\", DoubleType(), True),\n",
    "    StructField(\"ath\", DoubleType(), True),\n",
    "    StructField(\"ath_change_percentage\", DoubleType(), True),\n",
    "    StructField(\"ath_date\", StringType(), True),\n",
    "    StructField(\"atl\", DoubleType(), True),\n",
    "    StructField(\"atl_change_percentage\", DoubleType(), True),\n",
    "    StructField(\"atl_date\", StringType(), True),\n",
    "    StructField(\"roi\", DoubleType(), True),\n",
    "    StructField(\"last_updated\", StringType(), True)\n",
    "])"
   ]
  },
  {
   "cell_type": "code",
   "execution_count": 0,
   "metadata": {
    "application/vnd.databricks.v1+cell": {
     "cellMetadata": {
      "byteLimit": 2048000,
      "rowLimit": 10000
     },
     "inputWidgets": {},
     "nuid": "eb3e9036-cb8c-4e4e-b10f-554ad86fd289",
     "showTitle": false,
     "tableResultSettingsMap": {},
     "title": ""
    }
   },
   "outputs": [],
   "source": [
    "df_market_data = spark.createDataFrame([], schema)\n",
    "\n",
    "page = 1\n",
    "while True:\n",
    "    if page <= 4:\n",
    "        try:\n",
    "            market_data = cgk_api.make_request('coins/markets', params={'vs_currency': 'usd', 'page': page, 'per_page': 250, 'order': 'market_cap_desc'})\n",
    "            \n",
    "            if not market_data:\n",
    "                break\n",
    "                \n",
    "            # Trata o campo roi que pode vir como dict\n",
    "            for record in market_data:\n",
    "                if 'roi' in record and isinstance(record['roi'], dict):\n",
    "                    record['roi'] = None\n",
    "            \n",
    "            df_request = spark.createDataFrame(market_data, schema=schema)\n",
    "            \n",
    "            if df_request.count() > 0:\n",
    "                df_market_data = df_market_data.union(df_request)\n",
    "                page += 1\n",
    "                print(f\"Página {page-1} processada com sucesso\")\n",
    "                \n",
    "                # Delay entre requisições\n",
    "                time.sleep(3)\n",
    "            else:\n",
    "                break\n",
    "                \n",
    "        except Exception as e:\n",
    "            if \"rate limit\" in str(e).lower() or \"429\" in str(e):\n",
    "                print(f\"Rate limit atingido. Aguardando 60 segundos...\")\n",
    "                time.sleep(60)  # Aguarda 1 minuto\n",
    "                # Não incrementa a página para tentar novamente\n",
    "            else:\n",
    "                print(f\"Erro inesperado: {e}\")\n",
    "                break\n",
    "    else:\n",
    "        break"
   ]
  },
  {
   "cell_type": "code",
   "execution_count": 0,
   "metadata": {
    "application/vnd.databricks.v1+cell": {
     "cellMetadata": {
      "byteLimit": 2048000,
      "rowLimit": 10000
     },
     "inputWidgets": {},
     "nuid": "838f314d-6210-45bc-8ffe-b26a84b2d292",
     "showTitle": false,
     "tableResultSettingsMap": {},
     "title": ""
    }
   },
   "outputs": [],
   "source": [
    "save_helper = SaveHelper(df_market_data, 'bronze', 'workspace.api_coingecko.bronze_market_data_coins', 'overwrite')\n",
    "save_helper.execute()"
   ]
  }
 ],
 "metadata": {
  "application/vnd.databricks.v1+notebook": {
   "computePreferences": {
    "hardware": {
     "accelerator": null,
     "gpuPoolId": null,
     "memory": null
    }
   },
   "dashboards": [],
   "environmentMetadata": {
    "base_environment": "",
    "environment_version": "3"
   },
   "inputWidgetPreferences": null,
   "language": "python",
   "notebookMetadata": {
    "mostRecentlyExecutedCommandWithImplicitDF": {
     "commandId": 5338473893750777,
     "dataframes": [
      "_sqldf"
     ]
    },
    "pythonIndentUnit": 4
   },
   "notebookName": "bronze_market_data_coins",
   "widgets": {}
  },
  "language_info": {
   "name": "python"
  }
 },
 "nbformat": 4,
 "nbformat_minor": 0
}
