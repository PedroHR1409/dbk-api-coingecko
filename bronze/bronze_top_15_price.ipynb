{
 "cells": [
  {
   "cell_type": "code",
   "execution_count": 0,
   "metadata": {
    "application/vnd.databricks.v1+cell": {
     "cellMetadata": {
      "byteLimit": 2048000,
      "rowLimit": 10000
     },
     "inputWidgets": {},
     "nuid": "9009d894-8f87-4fa6-a7ab-0abdefd59218",
     "showTitle": false,
     "tableResultSettingsMap": {},
     "title": ""
    }
   },
   "outputs": [],
   "source": [
    "%run ../dao/coingeckoapi_dao/"
   ]
  },
  {
   "cell_type": "code",
   "execution_count": 0,
   "metadata": {
    "application/vnd.databricks.v1+cell": {
     "cellMetadata": {
      "byteLimit": 2048000,
      "rowLimit": 10000
     },
     "inputWidgets": {},
     "nuid": "53735fb0-a8c7-487a-ad45-2b054a1f3620",
     "showTitle": false,
     "tableResultSettingsMap": {},
     "title": ""
    }
   },
   "outputs": [],
   "source": [
    "%run ../utils/save_helper/"
   ]
  },
  {
   "cell_type": "code",
   "execution_count": 0,
   "metadata": {
    "application/vnd.databricks.v1+cell": {
     "cellMetadata": {
      "byteLimit": 2048000,
      "rowLimit": 10000
     },
     "inputWidgets": {},
     "nuid": "2db3764b-a60b-4aa8-8ced-9b4fd1bc4992",
     "showTitle": false,
     "tableResultSettingsMap": {},
     "title": ""
    }
   },
   "outputs": [],
   "source": [
    "from pyspark.sql.types import *"
   ]
  },
  {
   "cell_type": "code",
   "execution_count": 0,
   "metadata": {
    "application/vnd.databricks.v1+cell": {
     "cellMetadata": {
      "byteLimit": 2048000,
      "rowLimit": 10000
     },
     "inputWidgets": {},
     "nuid": "cf4a56b4-dde4-48fd-a14d-0bcb085c9dcc",
     "showTitle": false,
     "tableResultSettingsMap": {},
     "title": ""
    }
   },
   "outputs": [],
   "source": [
    "cgk_api = CoinGeckoAPI_DAO()"
   ]
  },
  {
   "cell_type": "code",
   "execution_count": 0,
   "metadata": {
    "application/vnd.databricks.v1+cell": {
     "cellMetadata": {
      "byteLimit": 2048000,
      "rowLimit": 10000
     },
     "inputWidgets": {},
     "nuid": "488f1376-1217-4277-8557-c78c5045873c",
     "showTitle": false,
     "tableResultSettingsMap": {},
     "title": ""
    }
   },
   "outputs": [],
   "source": [
    "top_15_coins_market_cap = spark.sql(\"\"\"SELECT id FROM api_coingecko.bronze_market_data_coins WHERE market_cap_rank <= 15\"\"\").collect()\n",
    "\n",
    "list_top_15 = [row['id'] for row in top_15_coins_market_cap]"
   ]
  },
  {
   "cell_type": "code",
   "execution_count": 0,
   "metadata": {
    "application/vnd.databricks.v1+cell": {
     "cellMetadata": {
      "byteLimit": 2048000,
      "rowLimit": 10000
     },
     "inputWidgets": {},
     "nuid": "32d5bc30-752b-416b-a857-7bb8739445b9",
     "showTitle": false,
     "tableResultSettingsMap": {},
     "title": ""
    }
   },
   "outputs": [],
   "source": [
    "schema = StructType([\n",
    "    StructField(\"coin_id\", StringType(), True),\n",
    "    StructField(\"vs_currency\", StringType(), True),\n",
    "    StructField(\"price\", DoubleType(), True),\n",
    "    StructField(\"market_cap\", DoubleType(), True),\n",
    "    StructField(\"volume_24h\", DoubleType(), True),\n",
    "    StructField(\"change_24h\", DoubleType(), True),\n",
    "    StructField(\"last_updated_at\", LongType(), True)\n",
    "])"
   ]
  },
  {
   "cell_type": "code",
   "execution_count": 0,
   "metadata": {
    "application/vnd.databricks.v1+cell": {
     "cellMetadata": {
      "byteLimit": 2048000,
      "rowLimit": 10000
     },
     "inputWidgets": {},
     "nuid": "15fbee8b-46e2-43e2-9cfb-d18bd76cc11e",
     "showTitle": false,
     "tableResultSettingsMap": {},
     "title": ""
    }
   },
   "outputs": [],
   "source": [
    "if list_top_15:\n",
    "    try:\n",
    "        all_coins = ','.join(list_top_15)\n",
    "        \n",
    "        print(f\"Buscando preços para: {all_coins.split(',')}\")\n",
    "        \n",
    "        response_all = cgk_api.make_request('simple/price', params={\n",
    "            'ids': all_coins,\n",
    "            'vs_currencies': 'usd',\n",
    "            'include_market_cap': 'true',\n",
    "            'include_24hr_vol': 'true',\n",
    "            'include_24hr_change': 'true',\n",
    "            'include_last_updated_at': 'true'\n",
    "        })\n",
    "        \n",
    "        all_data = []\n",
    "        \n",
    "        if response_all:\n",
    "            for coin_id, coin_data in response_all.items():\n",
    "                row_data = {\n",
    "                    'coin_id': coin_id,\n",
    "                    'vs_currency': 'usd',\n",
    "                    'price': coin_data.get('usd', None),\n",
    "                    'market_cap': coin_data.get('usd_market_cap', None),\n",
    "                    'volume_24h': coin_data.get('usd_24h_vol', None),\n",
    "                    'change_24h': coin_data.get('usd_24h_change', None),\n",
    "                    'last_updated_at': coin_data.get('last_updated_at', None)\n",
    "                }\n",
    "                all_data.append(row_data)\n",
    "                print(f\"✓ {coin_id}: ${coin_data.get('usd', 'N/A')}\")\n",
    "            \n",
    "            df_top_15 = spark.createDataFrame(all_data, schema)\n",
    "            \n",
    "            print(f\"\\nDataFrame TOP 15 - Total: {df_top_15.count()} registros\")\n",
    "            df_top_15.show(truncate=False)\n",
    "            \n",
    "        else:\n",
    "            print(\"Nenhum dado retornado pela API\")\n",
    "            \n",
    "    except Exception as e:\n",
    "        print(f\"Erro na busca do TOP 15: {e}\")"
   ]
  },
  {
   "cell_type": "code",
   "execution_count": 0,
   "metadata": {
    "application/vnd.databricks.v1+cell": {
     "cellMetadata": {
      "byteLimit": 2048000,
      "rowLimit": 10000
     },
     "inputWidgets": {},
     "nuid": "1f907cba-28d7-43f3-8eb1-f9cba93fe1ff",
     "showTitle": false,
     "tableResultSettingsMap": {},
     "title": ""
    }
   },
   "outputs": [],
   "source": [
    "def insert_with_merge(df_new_data):\n",
    "    \"\"\"Usa MERGE para fazer upsert dos dados\"\"\"\n",
    "    \n",
    "    print(\"Executando merge/upsert...\")\n",
    "    \n",
    "    df_new_data.createOrReplaceTempView(\"temp_new_data\")\n",
    "    \n",
    "    spark.sql(\"\"\"\n",
    "        MERGE INTO workspace.api_coingecko.bronze_top_15_price AS target\n",
    "        USING temp_new_data AS source\n",
    "        ON target.coin_id = source.coin_id \n",
    "        AND target.last_updated_at = source.last_updated_at\n",
    "        \n",
    "        WHEN NOT MATCHED THEN\n",
    "        INSERT (coin_id, vs_currency, price, market_cap, volume_24h, change_24h, last_updated_at)\n",
    "        VALUES (source.coin_id, source.vs_currency, source.price, source.market_cap, \n",
    "                source.volume_24h, source.change_24h, source.last_updated_at)\n",
    "    \"\"\")\n",
    "    \n",
    "    print(\"✓ Merge concluído\")"
   ]
  },
  {
   "cell_type": "code",
   "execution_count": 0,
   "metadata": {
    "application/vnd.databricks.v1+cell": {
     "cellMetadata": {
      "byteLimit": 2048000,
      "rowLimit": 10000
     },
     "inputWidgets": {},
     "nuid": "f03fa2cf-481e-4230-b648-d73b8ee5e02c",
     "showTitle": false,
     "tableResultSettingsMap": {},
     "title": ""
    }
   },
   "outputs": [],
   "source": [
    "insert_with_merge(df_top_15)"
   ]
  },
  {
   "cell_type": "code",
   "execution_count": 0,
   "metadata": {
    "application/vnd.databricks.v1+cell": {
     "cellMetadata": {
      "byteLimit": 2048000,
      "implicitDf": true,
      "rowLimit": 10000
     },
     "inputWidgets": {},
     "nuid": "ed048da6-6d18-4c19-b0dc-f7899720325e",
     "showTitle": false,
     "tableResultSettingsMap": {},
     "title": ""
    }
   },
   "outputs": [],
   "source": [
    "%sql\n",
    "SELECT * FROM workspace.api_coingecko.bronze_top_15_price"
   ]
  }
 ],
 "metadata": {
  "application/vnd.databricks.v1+notebook": {
   "computePreferences": null,
   "dashboards": [],
   "environmentMetadata": {
    "base_environment": "",
    "environment_version": "3"
   },
   "inputWidgetPreferences": null,
   "language": "python",
   "notebookMetadata": {
    "mostRecentlyExecutedCommandWithImplicitDF": {
     "commandId": 7069914151094364,
     "dataframes": [
      "_sqldf"
     ]
    },
    "pythonIndentUnit": 4
   },
   "notebookName": "bronze_top_15_price",
   "widgets": {}
  },
  "language_info": {
   "name": "python"
  }
 },
 "nbformat": 4,
 "nbformat_minor": 0
}
