{
 "cells": [
  {
   "cell_type": "code",
   "execution_count": 0,
   "metadata": {
    "application/vnd.databricks.v1+cell": {
     "cellMetadata": {
      "byteLimit": 2048000,
      "rowLimit": 10000
     },
     "inputWidgets": {},
     "nuid": "baa7ab65-4859-40ad-a579-7e782db20dd0",
     "showTitle": false,
     "tableResultSettingsMap": {},
     "title": ""
    }
   },
   "outputs": [],
   "source": [
    "%run ../utils/save_helper"
   ]
  },
  {
   "cell_type": "code",
   "execution_count": 0,
   "metadata": {
    "application/vnd.databricks.v1+cell": {
     "cellMetadata": {
      "byteLimit": 2048000,
      "rowLimit": 10000
     },
     "inputWidgets": {},
     "nuid": "221627a2-89fc-447c-a601-5f896337fab5",
     "showTitle": false,
     "tableResultSettingsMap": {
      "0": {
       "dataGridStateBlob": "{\"version\":1,\"tableState\":{\"columnPinning\":{\"left\":[\"#row_number#\"],\"right\":[]},\"columnSizing\":{\"last_updated_at\":221},\"columnVisibility\":{}},\"settings\":{\"columns\":{}},\"syncTimestamp\":1756947825050}",
       "filterBlob": null,
       "queryPlanFiltersBlob": null,
       "tableResultIndex": 0
      }
     },
     "title": ""
    }
   },
   "outputs": [],
   "source": [
    "from pyspark.sql.functions import *\n",
    "\n",
    "df = spark.sql(\"\"\"SELECT * FROM workspace.api_coingecko.bronze_top_15_price\"\"\")\n",
    "\n",
    "df_silver_top_15 = df.select(\n",
    "    col(\"coin_id\"), \n",
    "    col(\"vs_currency\"), \n",
    "    col(\"price\").cast(\"decimal(10,2)\"), \n",
    "    col(\"market_cap\").cast(\"decimal(20,2)\"), \n",
    "    col(\"volume_24h\").cast(\"decimal(20,2)\"),\n",
    "    col(\"change_24h\").cast(\"decimal(5,2)\"),\n",
    "    from_utc_timestamp(\n",
    "        from_unixtime(col(\"last_updated_at\").cast(\"long\")),\n",
    "        \"America/Sao_Paulo\"\n",
    "    ).alias(\"last_updated_at\")\n",
    ")\n",
    "\n",
    "display(df_silver_top_15)"
   ]
  },
  {
   "cell_type": "code",
   "execution_count": 0,
   "metadata": {
    "application/vnd.databricks.v1+cell": {
     "cellMetadata": {
      "byteLimit": 2048000,
      "rowLimit": 10000
     },
     "inputWidgets": {},
     "nuid": "573ed47d-1f25-4fe9-86df-568ce429872f",
     "showTitle": false,
     "tableResultSettingsMap": {},
     "title": ""
    }
   },
   "outputs": [],
   "source": [
    "sv_helper = SaveHelper(df_silver_top_15, 'silver', 'workspace.api_coingecko.silver_top_15_price', 'delta', key_columns=['coin_id', 'last_updated_at'])\n",
    "sv_helper.execute()"
   ]
  }
 ],
 "metadata": {
  "application/vnd.databricks.v1+notebook": {
   "computePreferences": null,
   "dashboards": [],
   "environmentMetadata": {
    "base_environment": "",
    "environment_version": "3"
   },
   "inputWidgetPreferences": null,
   "language": "python",
   "notebookMetadata": {
    "mostRecentlyExecutedCommandWithImplicitDF": {
     "commandId": 7069914151094381,
     "dataframes": [
      "_sqldf"
     ]
    },
    "pythonIndentUnit": 4
   },
   "notebookName": "silver_top_15_price",
   "widgets": {}
  },
  "language_info": {
   "name": "python"
  }
 },
 "nbformat": 4,
 "nbformat_minor": 0
}
